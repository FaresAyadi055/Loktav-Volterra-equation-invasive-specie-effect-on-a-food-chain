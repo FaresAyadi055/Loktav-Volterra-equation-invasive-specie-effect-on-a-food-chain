{
 "cells": [
  {
   "cell_type": "markdown",
   "metadata": {},
   "source": [
    "**<h1 style=\"text-align: center;\">Food Chain Equilibrium and Invasive Specie Disruption</h1>**\n"
   ]
  },
  {
   "cell_type": "markdown",
   "metadata": {},
   "source": [
    "## **Introduction:**\n",
    "\n",
    "The provided code implements the Lotka-Volterra model, a classic predator-prey system, using the Runge-Kutta 4th order (RK4) numerical method.\n",
    "We will use it to simulate the disruptive effect of an invasive species on a food chain."
   ]
  },
  {
   "cell_type": "markdown",
   "metadata": {},
   "source": [
    "## **1. Lotka-Volterra Equations:**\n",
    "The model consists of two coupled nonlinear differential equations describing the interaction between prey x(t) and predators y(t):\n",
    " \n",
    "  \n",
    "### $\\frac{dx}{dt}$ = αx − βxy   &nbsp;&nbsp;&nbsp;     (Prey dynamics),\n",
    "\n",
    "\n",
    "### $\\frac{dy}{dt}$ = δxy − γy   &nbsp;&nbsp;&nbsp;     (Predator dynamics),\n",
    "​"
   ]
  },
  {
   "cell_type": "markdown",
   "metadata": {
    "vscode": {
     "languageId": "plaintext"
    }
   },
   "source": [
    "### Importing libraries"
   ]
  },
  {
   "cell_type": "code",
   "execution_count": 163,
   "metadata": {},
   "outputs": [],
   "source": [
    "import numpy as np\n",
    "from IPython.display import display, HTML\n",
    "import matplotlib.pyplot as plt\n",
    "%matplotlib inline"
   ]
  },
  {
   "cell_type": "markdown",
   "metadata": {},
   "source": [
    "## **2. Model Parameters:**\n",
    "\n",
    "*   ### **α** : Prey growth rate.\n",
    "\n",
    "*   ### **β** : Predation rate reducing prey.\n",
    "\n",
    "*   ### **γ** : Predator death rate.\n",
    "\n",
    "* ### **δ** : Predator growth efficiency.    "
   ]
  },
  {
   "cell_type": "code",
   "execution_count": 164,
   "metadata": {},
   "outputs": [],
   "source": [
    "# Lotka-Volterra Model Parameters\n",
    "alpha = 1.1\n",
    "beta = 0.4\n",
    "gamma = 0.4\n",
    "delta = 0.1"
   ]
  },
  {
   "cell_type": "markdown",
   "metadata": {},
   "source": [
    "## **3. Defining the time parameters:**\n",
    "* #### **dt :** Sets the time step size for the numerical integration, Smaller dt improves accuracy but increases computation time.\n",
    "\n",
    "* #### **N :** Defines the total number of time steps for the simulation, enough steps to capture multiple predator-prey cycles\n",
    "\n",
    "* #### **t :** Creates a time array for plotting and analysis."
   ]
  },
  {
   "cell_type": "code",
   "execution_count": 165,
   "metadata": {},
   "outputs": [],
   "source": [
    "# Sample Time\n",
    "dt = 0.01\n",
    "\n",
    "# Simulation Time\n",
    "N = 5000\n",
    "t = np.arange(N)*dt"
   ]
  },
  {
   "cell_type": "markdown",
   "metadata": {},
   "source": [
    " #### We initially start with a prey population \"**x0**\" of **20** and a predator population \"**y0**\" of **5**"
   ]
  },
  {
   "cell_type": "code",
   "execution_count": 166,
   "metadata": {},
   "outputs": [],
   "source": [
    "# Initial Values \n",
    "x0 = 20\n",
    "y0 = 5"
   ]
  },
  {
   "cell_type": "markdown",
   "metadata": {},
   "source": [
    "#### The function **f(x, y)**  computes the time derivatives of the prey **(x)** and predator **(y)** populations at a given state **(x, y)**. \n",
    "$\\frac{dx}{dt}$ = αx − βxy\n",
    "\n",
    "$\\frac{dy}{dt}$ = δxy − γy"
   ]
  },
  {
   "cell_type": "code",
   "execution_count": 167,
   "metadata": {},
   "outputs": [],
   "source": [
    "# Dynamics of The Model\n",
    "def f(x, y):\n",
    "    xdot = alpha*x - beta*x*y\n",
    "    ydot = delta*x*y - gamma*y\n",
    "    return xdot, ydot\n"
   ]
  },
  {
   "cell_type": "markdown",
   "metadata": {},
   "source": [
    "### **4. Numerical Integration (RK4 Method):**\n",
    "The code uses the ( Runge–Kutta) **RK4 method** to solve the system numerically. For a time step  \\( Δt \\) , the update rule for \\( x \\) and \\( y \\) is:\n",
    "\n",
    "\n",
    "\\begin{aligned}\n",
    "k_1^x &= f(x, y), \\quad k_1^y = g(x, y), \\\\\n",
    "k_2^x &= f\\left(x + \\frac{k_1^x \\Delta t}{2}, y + \\frac{k_1^y \\Delta t}{2}\\right), \\quad k_2^y = g\\left(x + \\frac{k_1^x \\Delta t}{2}, y + \\frac{k_1^y \\Delta t}{2}\\right), \\\\\n",
    "k_3^x &= f\\left(x + \\frac{k_2^x \\Delta t}{2}, y + \\frac{k_2^y \\Delta t}{2}\\right), \\quad k_3^y = g\\left(x + \\frac{k_2^x \\Delta t}{2}, y + \\frac{k_2^y \\Delta t}{2}\\right), \\\\\n",
    "k_4^x &= f(x + k_3^x \\Delta t, y + k_3^y \\Delta t), \\quad k_4^y = g(x + k_3^x \\Delta t, y + k_3^y \\Delta t), \\\\\n",
    "x_{n+1} &= x_n + \\frac{\\Delta t}{6}(k_1^x + 2k_2^x + 2k_3^x + k_4^x), \\\\\n",
    "y_{n+1} &= y_n + \\frac{\\Delta t}{6}(k_1^y + 2k_2^y + 2k_3^y + k_4^y).\n",
    "\\end{aligned}\n",
    "\n",
    "\n",
    "Here, \\( f(x, y) =  αx -  βxy \\) and \\( g(x, y) = δ x y -  γy \\). RK4 provides higher accuracy than Euler’s method, crucial for capturing oscillatory behavior"
   ]
  },
  {
   "cell_type": "code",
   "execution_count": 168,
   "metadata": {},
   "outputs": [],
   "source": [
    "def next(x, y):\n",
    "    xdot1, ydot1 = f(x, y)\n",
    "    xdot2, ydot2 = f(x + xdot1*dt/2, y + ydot1*dt/2)\n",
    "    xdot3, ydot3 = f(x + xdot2*dt/2, y + ydot2*dt/2)\n",
    "    xdot4, ydot4 = f(x + xdot3*dt, y + ydot3*dt)\n",
    "    xnew = x + (xdot1 + 2*xdot2 + 2*xdot3 + xdot4)*dt/6\n",
    "    ynew = y + (ydot1 + 2*ydot2 + 2*ydot3 + ydot4)*dt/6\n",
    "    return xnew, ynew"
   ]
  },
  {
   "cell_type": "markdown",
   "metadata": {},
   "source": [
    "***Why use Runge-Kutta method ?***\n",
    "\n",
    "We used RK4 here because it's simple to implement, accurate, and robust for simulating systems like predator-prey dynamics over time. This method is known for it's stability and ability handle the non linearities.\n",
    "\n",
    "***Why use preciscely the 4th order ?***\n",
    "\n",
    "The local truncation error is 𝑂(𝑑𝑡5) and global error is 𝑂(𝑑𝑡4), meaning it's quite precise even for relatively large time steps.\n",
    "We are greatly reducing the error by approximating the solution using four slopes \n",
    "\n"
   ]
  },
  {
   "cell_type": "markdown",
   "metadata": {},
   "source": [
    "##  **5. Simulation:**\n",
    "We now can iterate through the time steps and apply the RK4 method to get our plot points"
   ]
  },
  {
   "cell_type": "code",
   "execution_count": 169,
   "metadata": {},
   "outputs": [],
   "source": [
    "# Simulation Loop\n",
    "x = np.zeros(N) #creating an array to store our data points \n",
    "y = np.zeros(N)\n",
    "x[0] = x0  # Set initial prey population\n",
    "y[0] = y0  # Set initial predator population\n",
    "for i in range(N-1):\n",
    "    x[i+1], y[i+1] = next(x[i], y[i])\n",
    "    #updating the population by looping over the time"
   ]
  },
  {
   "cell_type": "markdown",
   "metadata": {},
   "source": [
    "## **6. Plotting:**\n",
    "we can now visualize the interaction "
   ]
  },
  {
   "cell_type": "code",
   "execution_count": 170,
   "metadata": {},
   "outputs": [
    {
     "data": {
      "text/plain": [
       "Text(0.5, 1.0, 'Phase Portrait')"
      ]
     },
     "execution_count": 170,
     "metadata": {},
     "output_type": "execute_result"
    },
    {
     "data": {
      "image/png": "[encoded data removed]",
      "text/plain": [
       "<Figure size 640x480 with 2 Axes>"
      ]
     },
     "metadata": {},
     "output_type": "display_data"
    }
   ],
   "source": [
    "plt.subplot(1,2,1)\n",
    "plt.plot(t,x, label='Prey', linewidth=1)\n",
    "plt.plot(t,y, label='Predator', linewidth=1)\n",
    "plt.grid()\n",
    "plt.legend(loc = 'upper right')\n",
    "plt.xlabel('Time')\n",
    "\n",
    "plt.subplot(1,2,2)\n",
    "plt.plot(x,y, linewidth=1)\n",
    "plt.grid()\n",
    "plt.xlabel('Prey')\n",
    "plt.ylabel('Predator')\n",
    "plt.title('Phase Portrait')"
   ]
  },
  {
   "cell_type": "markdown",
   "metadata": {},
   "source": [
    "we observe that the predator population (orange) spikes after a small time delay from the spike of the prey poulation (blue) this is because predators thrive when there is an abundence of prey and the prey population decrease when there is a lot of predators.\n",
    "\n",
    "The phase portrait shows a circular pattern because this prey predator cycle continue indefinetly "
   ]
  },
  {
   "cell_type": "markdown",
   "metadata": {},
   "source": [
    "## **7. Adding damping to reach equilibrium:** ##\n",
    "\n",
    "in the f function we introduce a new parameter k initially 25 it represents the  carrying capacity of the environment (max sustainable prey population).\n",
    "This helps us represent an ecosystem with finite resourses like vegetaion ,food , water, habita...ec that can only sustain a limited number of animals makin the food chain more realistic.\n",
    "\n",
    "\\[\n",
    "\\begin{aligned}\n",
    "\\frac{dx}{dt} &= \\alpha x \\left(1 - \\frac{x}{K} \\right) - \\beta x y \\\\\n",
    "\\frac{dy}{dt} &= \\delta x y - \\gamma y\n",
    "\\end{aligned}\n",
    "\\]\n",
    "\n",
    "\n"
   ]
  },
  {
   "cell_type": "code",
   "execution_count": 171,
   "metadata": {},
   "outputs": [],
   "source": [
    "K = 25\n",
    "# Modified dynamics with damping\n",
    "def f(x, y):\n",
    "    xdot = alpha * x * (1 - x / K) - beta * x * y\n",
    "    ydot = delta * x * y - gamma * y\n",
    "    return xdot, ydot"
   ]
  },
  {
   "cell_type": "code",
   "execution_count": 172,
   "metadata": {},
   "outputs": [],
   "source": [
    "#reinitialising parameters\n",
    "dt = 0.01\n",
    "N = 5000\n",
    "t = np.arange(N)*dt\n",
    "x0 = 20\n",
    "y0 = 5"
   ]
  },
  {
   "cell_type": "code",
   "execution_count": null,
   "metadata": {},
   "outputs": [
    {
     "ename": "TypeError",
     "evalue": "next() missing 1 required positional argument: 'z'",
     "output_type": "error",
     "traceback": [
      "\u001b[1;31m---------------------------------------------------------------------------\u001b[0m",
      "\u001b[1;31mTypeError\u001b[0m                                 Traceback (most recent call last)",
      "Cell \u001b[1;32mIn[177], line 7\u001b[0m\n\u001b[0;32m      5\u001b[0m y[\u001b[38;5;241m0\u001b[39m] \u001b[38;5;241m=\u001b[39m y0 \n\u001b[0;32m      6\u001b[0m \u001b[38;5;28;01mfor\u001b[39;00m i \u001b[38;5;129;01min\u001b[39;00m \u001b[38;5;28mrange\u001b[39m(N\u001b[38;5;241m-\u001b[39m\u001b[38;5;241m1\u001b[39m):\n\u001b[1;32m----> 7\u001b[0m     x[i\u001b[38;5;241m+\u001b[39m\u001b[38;5;241m1\u001b[39m], y[i\u001b[38;5;241m+\u001b[39m\u001b[38;5;241m1\u001b[39m] \u001b[38;5;241m=\u001b[39m \u001b[38;5;28mnext\u001b[39m(x[i], y[i])\n\u001b[0;32m      8\u001b[0m     plt\u001b[38;5;241m.\u001b[39msubplot(\u001b[38;5;241m1\u001b[39m,\u001b[38;5;241m2\u001b[39m,\u001b[38;5;241m1\u001b[39m)\n\u001b[0;32m      9\u001b[0m plt\u001b[38;5;241m.\u001b[39mplot(t,x, label\u001b[38;5;241m=\u001b[39m\u001b[38;5;124m'\u001b[39m\u001b[38;5;124mPrey\u001b[39m\u001b[38;5;124m'\u001b[39m, linewidth\u001b[38;5;241m=\u001b[39m\u001b[38;5;241m1\u001b[39m)\n",
      "\u001b[1;31mTypeError\u001b[0m: next() missing 1 required positional argument: 'z'"
     ]
    }
   ],
   "source": [
    "# new plot\n",
    "x = np.zeros(N) \n",
    "y = np.zeros(N)\n",
    "x[0] = x0  \n",
    "y[0] = y0 \n",
    "for i in range(N-1):\n",
    "    x[i+1], y[i+1] = next(x[i], y[i])\n",
    "    plt.subplot(1,2,1)\n",
    "plt.plot(t,x, label='Prey', linewidth=1)\n",
    "plt.plot(t,y, label='Predator', linewidth=1)\n",
    "plt.grid()\n",
    "plt.legend(loc = 'upper right')\n",
    "plt.xlabel('Time')\n",
    "\n",
    "plt.subplot(1,2,2)\n",
    "plt.plot(x,y, linewidth=1)\n",
    "plt.grid()\n",
    "plt.xlabel('Prey')\n",
    "plt.ylabel('Predator')\n",
    "plt.title('Phase Portrait')"
   ]
  },
  {
   "cell_type": "markdown",
   "metadata": {},
   "source": [
    "## **8.New Observations:** ##\n",
    "\n",
    "* Prey growth is limited by resources or space (like a carrying capacity).\n",
    "\n",
    "* Similarly to the first plot when the prey populationn spikes the predator population also spikes after a time delay but the ocillations of both plots is getting smaller until they reach near constant values, that's the food chain equilibrium.\n",
    "\n",
    "* The phase portait is now a spiral because the oscillation is damped, the trajectory should move inward until it converges into a single point.\n",
    "\n",
    "* **K** is a limited ecological constrain that the prey population depends on it to grow making the simulation more realistic"
   ]
  },
  {
   "cell_type": "markdown",
   "metadata": {},
   "source": [
    "## **9.Introducing an Invasive Specie to the equilibrium:** ##"
   ]
  },
  {
   "cell_type": "markdown",
   "metadata": {},
   "source": [
    "###  Predator-Prey-Invasive Species Model\n",
    "\n",
    "Let:\n",
    "- `x(t)` = Native prey population  \n",
    "- `y(t)` = Predator population  \n",
    "- `z(t)` = Invasive species population  \n",
    "- `K` = Carrying capacity (shared by both prey species)  \n",
    "\n",
    "---\n",
    "\n",
    "#### Differential Equations:\n",
    "\n",
    "\\[\n",
    "\\begin{align*}\n",
    "\\frac{dx}{dt} &= \\alpha x \\left(1 - \\frac{x + z}{K} \\right) - \\beta x y \\\\\n",
    "\\frac{dy}{dt} &= \\delta x y - \\gamma y \\\\\n",
    "\\frac{dz}{dt} &= \\epsilon z \\left(1 - \\frac{x + z}{K} \\right)\n",
    "\\end{align*}\n",
    "\\]\n",
    "\n",
    "---\n",
    "\n",
    "**Where:**\n",
    "\n",
    "- **α** : growth rate of native prey  \n",
    "- **β** : rate at which predators consume native prey  \n",
    "- **γ** : natural death rate of predators  \n",
    "- **Δ** : efficiency of predator growth from consuming prey  \n",
    "- **ε**: growth rate of invasive species (usually > α)  \n",
    "-  **K** : environmental carrying capacity (limits prey + invasive growth)\n",
    "\n"
   ]
  },
  {
   "cell_type": "markdown",
   "metadata": {},
   "source": [
    "#### **modifying f and the mk4 method to include the invasive specie** ####"
   ]
  },
  {
   "cell_type": "code",
   "execution_count": 174,
   "metadata": {},
   "outputs": [],
   "source": [
    "# New parameter\n",
    "epsilon = 1.5  # Growth rate of invasive species\n",
    "k = 25\n",
    "# Updated dynamics\n",
    "def f(x, y, z):\n",
    "    total_prey = x + z  # Total biomass competing for resources\n",
    "    xdot = alpha * x * (1 - total_prey / K) - beta * x * y\n",
    "    ydot = delta * x * y - gamma * y\n",
    "    zdot = epsilon * z * (1 - total_prey / K)  # Unchecked growth\n",
    "    return xdot, ydot, zdot\n",
    "def next(x, y, z):\n",
    "    dx1, dy1, dz1 = f(x, y, z)\n",
    "    dx2, dy2, dz2 = f(x + dx1*dt/2, y + dy1*dt/2, z + dz1*dt/2)\n",
    "    dx3, dy3, dz3 = f(x + dx2*dt/2, y + dy2*dt/2, z + dz2*dt/2)\n",
    "    dx4, dy4, dz4 = f(x + dx3*dt, y + dy3*dt, z + dz3*dt)\n",
    "    \n",
    "    xnew = x + (dx1 + 2*dx2 + 2*dx3 + dx4) * dt / 6\n",
    "    ynew = y + (dy1 + 2*dy2 + 2*dy3 + dy4) * dt / 6\n",
    "    znew = z + (dz1 + 2*dz2 + 2*dz3 + dz4) * dt / 6\n",
    "    \n",
    "    return xnew, ynew, znew"
   ]
  },
  {
   "cell_type": "code",
   "execution_count": 175,
   "metadata": {},
   "outputs": [],
   "source": [
    "#reinitialising parameters\n",
    "dt = 0.01\n",
    "N = 5000\n",
    "t = np.arange(N)*dt\n",
    "x0 = 200\n",
    "y0 = 50\n",
    "z0 = 2\n",
    "k = 25"
   ]
  },
  {
   "cell_type": "code",
   "execution_count": 176,
   "metadata": {},
   "outputs": [
    {
     "data": {
      "text/plain": [
       "Text(0.5, 1.0, 'Phase Portrait')"
      ]
     },
     "execution_count": 176,
     "metadata": {},
     "output_type": "execute_result"
    },
    {
     "data": {
      "image/png": "[encoded data removed]",
      "text/plain": [
       "<Figure size 640x480 with 2 Axes>"
      ]
     },
     "metadata": {},
     "output_type": "display_data"
    }
   ],
   "source": [
    "# new plot\n",
    "x = np.zeros(N) \n",
    "y = np.zeros(N)\n",
    "z = np.zeros(N)\n",
    "\n",
    "x[0] = x0\n",
    "y[0] = y0\n",
    "z[0] = z0\n",
    "for i in range(N-1):\n",
    "    x[i+1], y[i+1] , z[i+1] = next(x[i], y[i], z[i])\n",
    "plt.subplot(1,2,1)\n",
    "plt.plot(t,x, label=' Native Prey', linewidth=1)\n",
    "plt.plot(t,y, label='Predator', linewidth=1)\n",
    "plt.plot(t,z, label=' invasive specie', linewidth=1)\n",
    "plt.grid()\n",
    "plt.legend(loc = 'upper right')\n",
    "plt.xlabel('Time')\n",
    "\n",
    "plt.subplot(1,2,2)\n",
    "plt.plot(x,y, linewidth=1)\n",
    "plt.grid()\n",
    "plt.xlabel('Prey')\n",
    "plt.ylabel('Predator')\n",
    "plt.title('Phase Portrait')"
   ]
  },
  {
   "cell_type": "markdown",
   "metadata": {},
   "source": [
    "## **10.Observations**\n",
    "\n",
    "* the **invasive species** directly competed with the **prey** for the limited resources (**K**) causing a shortage, this shortage is responsible for the decline in the **prey** population. Which in turn caused the decline in **predator** population.\n",
    "the decline continued until we observe the extinction of the **prey** and shortly after the extinction **predator** population.\n",
    "\n",
    "* the phase portrait shows a decending slope representing the swift decline of both populations until their extinction.\n",
    "\n",
    "\n",
    "* the population of the **invasive species** initially 2 swifty increase (boom) since it doesn't have a predator,rapidly replacing the **prey** population until their extinction.\n",
    "\n",
    "\n",
    "* after the extinction of the **prey** the **invasive species** population stabilises at 25 as their growth is limited by the resourses available that allows only 25 individuals to survive at a time."
   ]
  },
  {
   "cell_type": "markdown",
   "metadata": {},
   "source": [
    "<h1>Real World Example: Feral Pigs Impacting Native Species</h1>\n",
    "\n",
    "<p><strong>Species Involved:</strong></p>\n",
    "<ul>\n",
    "  <li><strong>Invasive Species:</strong> Feral Pig (<em>Sus scrofa</em>)</li>\n",
    "  <li><strong>Native Prey:</strong> Wild Turkey (<em>Meleagris gallopavo</em>)</li>\n",
    "  <li><strong>Native Predator:</strong> Florida Panther (<em>Puma concolor coryi</em>)</li>\n",
    "</ul>\n",
    "\n",
    "<p><strong>Impact:</strong> Feral pigs, introduced and now widespread, directly compete with native wild turkeys for food resources like acorns and mast. Furthermore, they prey on turkey eggs and young, leading to significant declines in turkey populations. This reduction in a key native prey species can negatively impact the Florida panther, a native predator. While panthers may consume feral pigs, a decline in native prey availability can strain their food resources and overall ecosystem health.</p>\n",
    "\n",
    "<p><strong>Ecological Concern:</strong> The adaptability and broad diet of feral pigs make them a serious threat to native ecosystems. Their competition with prey and potential impact on predator populations highlight the cascading negative effects of invasive species.</p>"
   ]
  },
  {
   "cell_type": "markdown",
   "metadata": {
    "vscode": {
     "languageId": "html"
    }
   },
   "source": [
    "<div style=\"display: flex; justify-content: space-around; align-items: center;\">\n",
    "  <div style=\"text-align: center;\">\n",
    "    <img src=\"https://upload.wikimedia.org/wikipedia/commons/9/9b/Wild_Pig_KSC02pd0873.jpg\" alt=\"Feral pig\" style=\"width: 300px; height: 180px;\">\n",
    "    <p style=\"font-size: 12px;\">Image credit: USGS / Naples News</p>\n",
    "  </div>\n",
    "  <div style=\"text-align: center;\">\n",
    "    <img src=\"https://images.squarespace-cdn.com/content/v1/5244a436e4b0d2b36c047bc0/1598663256808-NDJBQCEO4K5QAN7FDE1P/20200722-jp-valery-xYxTJBJv01Y-unsplash.jpg?format=2500w\" alt=\"Wild Turkey\" style=\"width: 300px; height: 180px;\">\n",
    "    <p style=\"font-size: 12px;\">Image credit: Google Images</p>\n",
    "  </div>\n",
    "  <div style=\"text-align: center;\">\n",
    "    <img src=\"https://natureconservancy-h.assetsadobe.com/is/image/content/dam/tnc/nature/en/photos/t/n/tnc_41097542_4000x2200.jpg?crop=0%2C0%2C4000%2C2200&wid=4000&hei=2200&scl=1.0\" alt=\"Asian Swamp Eel 3\" style=\"width: 300px; height: 180px;\">\n",
    "    <p style=\"font-size: 12px;\">Image credit: Pinterest</p>\n",
    "  </div>\n",
    "</div>\n"
   ]
  },
  {
   "cell_type": "markdown",
   "metadata": {},
   "source": [
    "---\n",
    "\n",
    "### 📌 Author & Credits  \n",
    "👤 **Author:** Fares Ayadi  \n",
    "\n",
    "📅 **Last Updated:** 2025-04-15  \n",
    "\n",
    "🔗 **References:** [https://github.com/smkalami/lotka-volterra-in-python.git](#) \n",
    "\n",
    "📜 **License:** [MIT License](https://opensource.org/licenses/MIT)  \n",
    "\n",
    "This work is licensed under the MIT License, which allows you to use, modify, and distribute the code with attribution.\n",
    " \n",
    "\n",
    "---\n",
    "\n",
    "<div style=\"text-align: center; font-size: 0.9em; color: gray;\">\n",
    "© 2025 Fares Ayadi \n",
    "</div>\n"
   ]
  }
 ],
 "metadata": {
  "kernelspec": {
   "display_name": "base",
   "language": "python",
   "name": "python3"
  },
  "language_info": {
   "codemirror_mode": {
    "name": "ipython",
    "version": 3
   },
   "file_extension": ".py",
   "mimetype": "text/x-python",
   "name": "python",
   "nbconvert_exporter": "python",
   "pygments_lexer": "ipython3",
   "version": "3.11.5"
  }
 },
 "nbformat": 4,
 "nbformat_minor": 4
}
